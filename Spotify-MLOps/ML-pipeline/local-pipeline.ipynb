{
 "cells": [
  {
   "cell_type": "code",
   "execution_count": null,
   "id": "a6b594df",
   "metadata": {},
   "outputs": [],
   "source": [
    "# Libraries\n",
    "import kagglehub\n",
    "import os\n",
    "import warnings\n",
    "import pandas as pd\n",
    "import matplotlib.pyplot as plt\n",
    "import seaborn as sns\n",
    "from scipy.stats import skew, kurtosis\n",
    "from sklearn.preprocessing import StandardScaler\n",
    "from sklearn.model_selection import train_test_split\n",
    "from sklearn.linear_model import LogisticRegression\n",
    "from sklearn.tree import DecisionTreeClassifier, plot_tree\n",
    "from sklearn.ensemble import RandomForestClassifier\n",
    "from xgboost import XGBClassifier\n",
    "from sklearn.metrics import accuracy_score, precision_score, recall_score, f1_score, roc_auc_score, confusion_matrix, classification_report\n",
    "\n",
    "warnings.filterwarnings(\"ignore\")\n",
    "\n",
    "path = kagglehub.dataset_download(\"nabihazahid/spotify-dataset-for-churn-analysis\")"
   ]
  },
  {
   "cell_type": "code",
   "execution_count": null,
   "id": "38847e2c",
   "metadata": {},
   "outputs": [],
   "source": [
    "df_raw = pd.read_csv(f\"{path}/spotify_churn_dataset.csv\")"
   ]
  },
  {
   "cell_type": "code",
   "execution_count": null,
   "id": "dc18fa43",
   "metadata": {},
   "outputs": [],
   "source": [
    "# Separate variables into different objects \n",
    "\n",
    "quantitative_cols = [\"age\", \"listening_time\", \"songs_played_per_day\",\"skip_rate\",\"ads_listened_per_week\"]\n",
    "string_cols = [\"user_id\"]\n",
    "categorical_cols = [\"gender\", \"country\", \"subscription_type\",\"device_type\"]\n",
    "boolean_cols = [\"offline_listening\"]\n",
    "\n",
    "target = [\"is_churned\"]"
   ]
  },
  {
   "cell_type": "code",
   "execution_count": null,
   "id": "482097c3",
   "metadata": {},
   "outputs": [],
   "source": [
    "df_model = df_raw.drop(columns=[\"user_id\", \"offline_listening\"])"
   ]
  },
  {
   "cell_type": "code",
   "execution_count": null,
   "id": "ba364f7b",
   "metadata": {},
   "outputs": [],
   "source": [
    "# 2. One hot encoding\n",
    "df_model = pd.get_dummies(df_model, columns=categorical_cols, drop_first=True)"
   ]
  },
  {
   "cell_type": "code",
   "execution_count": null,
   "id": "06e1f9c9",
   "metadata": {},
   "outputs": [],
   "source": [
    "# 3. Standar Scaler\n",
    "scaler = StandardScaler()\n",
    "df_model[quantitative_cols] = scaler.fit_transform(df_model[quantitative_cols])"
   ]
  },
  {
   "cell_type": "code",
   "execution_count": null,
   "id": "1513dbf9",
   "metadata": {},
   "outputs": [],
   "source": [
    "# Target\n",
    "y = df_model[\"is_churned\"]\n",
    "\n",
    "# Features\n",
    "X = df_model.drop(columns=[\"is_churned\"])\n",
    "\n",
    "# Split train/test (80/20)\n",
    "X_train, X_test, y_train, y_test = train_test_split(\n",
    "    X, y,\n",
    "    test_size=0.2,\n",
    "    random_state=42,\n",
    "    stratify=y  \n",
    ")\n",
    "\n",
    "print(\"Train shape:\", X_train.shape)\n",
    "print(\"Test shape:\", X_test.shape)\n",
    "print(\"Churn ratio train:\", y_train.mean().round(3))\n",
    "print(\"Churn ratio test:\", y_test.mean().round(3))"
   ]
  },
  {
   "cell_type": "code",
   "execution_count": null,
   "id": "1a94a35e",
   "metadata": {},
   "outputs": [],
   "source": [
    "results = []\n",
    "\n",
    "# 1. Define and train the model.\n",
    "log_reg = LogisticRegression(\n",
    "    max_iter=1000,\n",
    "    solver=\"liblinear\",\n",
    "    class_weight=\"balanced\"\n",
    ")  \n",
    "log_reg.fit(X_train, y_train)\n",
    "\n",
    "# 2. Predictions.\n",
    "y_pred = log_reg.predict(X_test)\n",
    "y_proba = log_reg.predict_proba(X_test)[:, 1]\n",
    "\n",
    "# 3. Metrics.\n",
    "accuracy  = round(accuracy_score(y_test, y_pred), 3)\n",
    "precision = round(precision_score(y_test, y_pred, zero_division=0), 3)\n",
    "recall    = round(recall_score(y_test, y_pred, zero_division=0), 3)\n",
    "f1        = round(f1_score(y_test, y_pred, zero_division=0), 3)\n",
    "roc_auc   = round(roc_auc_score(y_test, y_proba), 3)\n",
    "\n",
    "results.append({\n",
    "    \"Model\": \"Logistic Regression\",\n",
    "    \"Accuracy\": accuracy,\n",
    "    \"Precision\": precision,\n",
    "    \"Recall\": recall,\n",
    "    \"F1-score\": f1,\n",
    "    \"ROC-AUC\": roc_auc\n",
    "})"
   ]
  },
  {
   "cell_type": "code",
   "execution_count": null,
   "id": "d6fe8768",
   "metadata": {},
   "outputs": [],
   "source": [
    "# 1. Define and train the model.  \n",
    "tree_clf = DecisionTreeClassifier(\n",
    "    max_depth=5,          \n",
    "    class_weight=\"balanced\", \n",
    "    random_state=42\n",
    ")\n",
    "tree_clf.fit(X_train, y_train)\n",
    "\n",
    "# 2. Predictions.\n",
    "y_pred = tree_clf.predict(X_test)\n",
    "y_proba = tree_clf.predict_proba(X_test)[:, 1]\n",
    "\n",
    "# 3. Metrics.\n",
    "accuracy  = round(accuracy_score(y_test, y_pred), 3)\n",
    "precision = round(precision_score(y_test, y_pred, zero_division=0), 3)\n",
    "recall    = round(recall_score(y_test, y_pred, zero_division=0), 3)\n",
    "f1        = round(f1_score(y_test, y_pred, zero_division=0), 3)\n",
    "roc_auc   = round(roc_auc_score(y_test, y_proba), 3)\n",
    "\n",
    "results.append({\n",
    "    \"Model\": \"Decision Tree\",\n",
    "    \"Accuracy\": accuracy,\n",
    "    \"Precision\": precision,\n",
    "    \"Recall\": recall,\n",
    "    \"F1-score\": f1,\n",
    "    \"ROC-AUC\": roc_auc\n",
    "})"
   ]
  }
 ],
 "metadata": {
  "language_info": {
   "name": "python"
  }
 },
 "nbformat": 4,
 "nbformat_minor": 5
}
